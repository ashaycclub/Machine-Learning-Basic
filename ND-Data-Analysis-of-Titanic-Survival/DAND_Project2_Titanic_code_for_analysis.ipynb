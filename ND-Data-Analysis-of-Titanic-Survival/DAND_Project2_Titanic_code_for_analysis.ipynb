{
 "cells": [
  {
   "cell_type": "markdown",
   "metadata": {},
   "source": [
    "### Project 2: Code for the Analysis of Titanic Data\n",
    "\n",
    "Liang Sun\n",
    "\n",
    "January 5, 2017"
   ]
  },
  {
   "cell_type": "markdown",
   "metadata": {},
   "source": [
    "********"
   ]
  },
  {
   "cell_type": "markdown",
   "metadata": {},
   "source": [
    "#### Data Wrangling"
   ]
  },
  {
   "cell_type": "code",
   "execution_count": null,
   "metadata": {
    "collapsed": false
   },
   "outputs": [],
   "source": [
    "#Import packages and read file\n",
    "#Read the data file \n",
    "import matplotlib.pyplot as plt\n",
    "import numpy as np\n",
    "import pandas as pd\n",
    "import seaborn as sns\n",
    "%pylab inline  \n",
    "\n",
    "from scipy.stats import ttest_ind\n",
    "from scipy.stats import chi2_contingency\n",
    "\n",
    "filename = 'C:/Users/Liang Sun/Documents/My NanoDegree/dandp2_project/titanic-data.csv'\n",
    "titanic_df = pd.read_csv(filename)"
   ]
  },
  {
   "cell_type": "code",
   "execution_count": null,
   "metadata": {
    "collapsed": false
   },
   "outputs": [],
   "source": [
    "# Create a copy of the orignial data where \"sex\" is coded as 1=female and 0=male\n",
    "def convert_sex(sex):\n",
    "    if sex == 'female':\n",
    "        sex = 1\n",
    "    elif sex == 'male':\n",
    "        sex = 0\n",
    "    return sex\n",
    "\n",
    "titan_df = titanic_df.copy()\n",
    "titan_df['Sex'] = titan_df['Sex'].apply(convert_sex)\n",
    "titan_df.head()"
   ]
  },
  {
   "cell_type": "code",
   "execution_count": null,
   "metadata": {
    "collapsed": false
   },
   "outputs": [],
   "source": [
    "# \"Pclass\",\"Embarked\" are categorical, so we get their dummies for analysis\n",
    "class_dummies = pd.get_dummies(titan_df['Pclass'],prefix='class')\n",
    "embark_dummies = pd.get_dummies(titan_df['Embarked'],prefix='port')\n",
    "titan_df = pd.concat([titan_df,class_dummies,embark_dummies],axis=1)"
   ]
  },
  {
   "cell_type": "markdown",
   "metadata": {},
   "source": [
    "****"
   ]
  },
  {
   "cell_type": "markdown",
   "metadata": {},
   "source": [
    "The following codes for data analysis are arranged in the order of answering the questions stated in the project."
   ]
  },
  {
   "cell_type": "markdown",
   "metadata": {},
   "source": [
    "#### Question 1: Summary statistics"
   ]
  },
  {
   "cell_type": "code",
   "execution_count": null,
   "metadata": {
    "collapsed": false,
    "scrolled": true
   },
   "outputs": [],
   "source": [
    "titan_df.describe()  #age and embarked have missing values"
   ]
  },
  {
   "cell_type": "code",
   "execution_count": null,
   "metadata": {
    "collapsed": false,
    "scrolled": true
   },
   "outputs": [],
   "source": [
    "titan_df.groupby('Survived',as_index=False).describe()"
   ]
  },
  {
   "cell_type": "markdown",
   "metadata": {},
   "source": [
    "#### Question 2: Relationship between gender and survival"
   ]
  },
  {
   "cell_type": "code",
   "execution_count": null,
   "metadata": {
    "collapsed": false
   },
   "outputs": [],
   "source": [
    "#Get survival rate by gender\n",
    "gender_survival = titan_df[['Survived','Sex','Name']] # 891 observations"
   ]
  },
  {
   "cell_type": "code",
   "execution_count": null,
   "metadata": {
    "collapsed": false
   },
   "outputs": [],
   "source": [
    " gender_survival.groupby(['Sex','Survived'],as_index=False).count()"
   ]
  },
  {
   "cell_type": "code",
   "execution_count": null,
   "metadata": {
    "collapsed": false
   },
   "outputs": [],
   "source": [
    "#chi-squared test of \"Sex\" and \"Survived\"\n",
    "obs=np.array([[468,109],[81,233]])\n",
    "\n",
    "chi2_contingency(obs)   # these two variables are not independent"
   ]
  },
  {
   "cell_type": "code",
   "execution_count": null,
   "metadata": {
    "collapsed": false
   },
   "outputs": [],
   "source": [
    "#Visualization: survival rate by gender\n",
    "\n",
    "gender_surv1 = gender_survival[gender_survival['Survived']==0] \n",
    "gender_surv2 = gender_survival[gender_survival['Survived']==1]\n",
    "#Generate gender summary statistics by survival for creating bar chart\n",
    "no_surv = gender_surv1.groupby('Sex',as_index=False).count()\n",
    "surv = gender_surv2.groupby('Sex',as_index=False).count()\n",
    "\n",
    "n_group=2\n",
    "objects=['Male','Female']\n",
    "index=np.arange(n_group)\n",
    "bar_width = 0.35\n",
    "plt.figure(figsize=(5,3))\n",
    "plt.bar(index,no_surv['Survived'],bar_width,label='Not survived')\n",
    "plt.xticks(index+bar_width, objects)\n",
    "plt.bar(index+bar_width,surv['Survived'],bar_width,color='g',label='Survived')\n",
    "plt.legend(fontsize=10)\n",
    "plt.ylabel('Frequency',fontsize=10)\n",
    "plt.suptitle('Survival by gender',fontsize=12)\n",
    "plt.savefig('survival_by_gender.png');"
   ]
  },
  {
   "cell_type": "code",
   "execution_count": null,
   "metadata": {
    "collapsed": false
   },
   "outputs": [],
   "source": [
    "# Or, from a different perspective we can also get gender by survival\n",
    "#Visualization: gender composition by survival\n",
    "male = gender_survival[gender_survival['Sex']==0] \n",
    "female = gender_survival[gender_survival['Sex']==1]\n",
    "#Generate survival summary statistics by gender for creating bar chart\n",
    "m = male.groupby('Survived',as_index=False).count()\n",
    "f = female.groupby('Survived',as_index=False).count()\n",
    "\n",
    "n_group=2\n",
    "objects=['Not survived','Survived']\n",
    "index=np.arange(n_group)\n",
    "bar_width = 0.35\n",
    "plt.figure(figsize=(5,3))\n",
    "plt.bar(index,m['Sex'],bar_width,label='Male')\n",
    "plt.xticks(index+bar_width, objects)\n",
    "plt.bar(index+bar_width,f['Sex'],bar_width,color='green',label='Female')\n",
    "plt.legend(fontsize=10)\n",
    "plt.ylabel('Frequency',fontsize=10)\n",
    "plt.suptitle('Gender by survival',fontsize=12)\n",
    "plt.savefig('gender.png');"
   ]
  },
  {
   "cell_type": "markdown",
   "metadata": {},
   "source": [
    "### Question 3: Relationship between age and survival"
   ]
  },
  {
   "cell_type": "code",
   "execution_count": null,
   "metadata": {
    "collapsed": false
   },
   "outputs": [],
   "source": [
    "#Get the mean of age by survival\n",
    "age_survival = titan_df[['Survived','Age']] # 891 observations\n",
    "age_surv = age_survival.dropna() #Drop missing values of age, and 714 observations are kept\n",
    "age_surv.groupby('Survived',as_index=False).mean()"
   ]
  },
  {
   "cell_type": "code",
   "execution_count": null,
   "metadata": {
    "collapsed": false
   },
   "outputs": [],
   "source": [
    "#Perform a t-test comparing the age mean between survived and non-survived\n",
    "from scipy.stats import ttest_ind\n",
    "surv1 = age_surv[age_surv['Survived']==0] \n",
    "surv2 = age_surv[age_surv['Survived']==1]\n",
    "ttest_ind(surv1['Age'], surv2['Age'])"
   ]
  },
  {
   "cell_type": "code",
   "execution_count": null,
   "metadata": {
    "collapsed": false
   },
   "outputs": [],
   "source": [
    "# Visualization: violin plot to show distribution of survivors and non-survivors\n",
    "sns.violinplot(x='Survived',y='Age',data=age_surv)\n",
    "plt.suptitle('Violin plot of age by survival')\n",
    "plt.xticks([0,1], ['Not survived','Survived'])\n",
    "plt.savefig('violin_age');"
   ]
  },
  {
   "cell_type": "code",
   "execution_count": null,
   "metadata": {
    "collapsed": false
   },
   "outputs": [],
   "source": [
    "# Group age into children and adults\n",
    "age_surv_kid = age_surv[age_surv['Age']<=16] \n",
    "age_surv_adult = age_surv[age_surv['Age']>16]"
   ]
  },
  {
   "cell_type": "code",
   "execution_count": null,
   "metadata": {
    "collapsed": false
   },
   "outputs": [],
   "source": [
    "#Create a dataset with an indicator of children or adult\n",
    "kid_surv=age_surv.copy()\n",
    "kid_surv['kid']=''\n",
    "def convert_kid(age):\n",
    "    if age<=16:\n",
    "        return 1\n",
    "    else:\n",
    "        return 0\n",
    "kid_surv['kid']=kid_surv['Age'].apply(convert_kid)\n",
    "kid_surv.head()"
   ]
  },
  {
   "cell_type": "code",
   "execution_count": null,
   "metadata": {
    "collapsed": false
   },
   "outputs": [],
   "source": [
    "kid_surv.groupby(['kid','Survived'],as_index=False).count()"
   ]
  },
  {
   "cell_type": "code",
   "execution_count": null,
   "metadata": {
    "collapsed": false
   },
   "outputs": [],
   "source": [
    "#chi-squared test of \"kid\" and \"survived\"\n",
    "obs=np.array([[379,45],[235,55]])\n",
    "\n",
    "from scipy.stats import chi2_contingency\n",
    "chi2_contingency(obs)   # these two variables are not independent"
   ]
  },
  {
   "cell_type": "code",
   "execution_count": null,
   "metadata": {
    "collapsed": false
   },
   "outputs": [],
   "source": [
    "# Visualization: bar chart of survival by children vs adult\n",
    "kid_surv_no=kid_surv[kid_surv['Survived']==0]\n",
    "kid_surv_yes=kid_surv[kid_surv['Survived']==1]\n",
    "no_surv = kid_surv_no.groupby('kid',as_index=False).count()\n",
    "surv = kid_surv_yes.groupby('kid',as_index=False).count()\n",
    "\n",
    "n_group=2\n",
    "objects=['Adult','Children']\n",
    "index=np.arange(n_group)\n",
    "bar_width = 0.35\n",
    "plt.figure(figsize=(5,3))\n",
    "plt.bar(index,no_surv['Survived'],bar_width,label='Not survived')\n",
    "plt.xticks(index+bar_width, objects)\n",
    "plt.bar(index+bar_width,surv['Survived'],bar_width,color='green',label='Survived')\n",
    "plt.legend(fontsize=10)\n",
    "plt.ylabel('Frequency',fontsize=10)\n",
    "plt.suptitle('Survival by Age Group',fontsize=12)\n",
    "plt.savefig('survival_by_kid.png');"
   ]
  },
  {
   "cell_type": "markdown",
   "metadata": {},
   "source": [
    "#### Question 4: Relationship between fare and survivial\n"
   ]
  },
  {
   "cell_type": "code",
   "execution_count": null,
   "metadata": {
    "collapsed": false
   },
   "outputs": [],
   "source": [
    "#Create data of survival and fare only\n",
    "fare_survival=titan_df[['Survived','Fare']]"
   ]
  },
  {
   "cell_type": "code",
   "execution_count": null,
   "metadata": {
    "collapsed": false
   },
   "outputs": [],
   "source": [
    "#t-test of the mean of fare between survivors and non-survivors\n",
    "fare_surv1 = fare_survival[fare_survival['Survived']==0] \n",
    "fare_surv2 = fare_survival[fare_survival['Survived']==1]\n",
    "ttest_ind(fare_surv1['Fare'], fare_surv2['Fare'])"
   ]
  },
  {
   "cell_type": "code",
   "execution_count": null,
   "metadata": {
    "collapsed": false
   },
   "outputs": [],
   "source": [
    "#Visualization: histogram of fare by survival\n",
    "plt.figure(figsize=[20,6])\n",
    "\n",
    "plt.subplot(1,2,1)\n",
    "plt.hist(fare_surv1['Fare'],bins=[0,50,100,150,200,250,300,350])\n",
    "plt.title('Not survived',fontsize=16)\n",
    "plt.ylabel('Frequency',fontsize=16)\n",
    "plt.xlabel('Fare',fontsize=16)\n",
    "plt.ylim(0,500)\n",
    "plt.xlim(0,600)\n",
    "\n",
    "plt.subplot(1,2,2)\n",
    "plt.hist(fare_surv2['Fare'])\n",
    "plt.title('Survived',fontsize=16)\n",
    "plt.ylim(0,500)\n",
    "plt.xlabel('Fare',fontsize=16)\n",
    "\n",
    "plt.suptitle('Distrbution of Fare by Survival',fontsize=20)\n",
    "plt.savefig(\"hist_fare.png\");"
   ]
  },
  {
   "cell_type": "markdown",
   "metadata": {},
   "source": [
    "#### Question 5: Relationship between class and survivial"
   ]
  },
  {
   "cell_type": "code",
   "execution_count": null,
   "metadata": {
    "collapsed": false
   },
   "outputs": [],
   "source": [
    "#Get the survival rate by class\n",
    "class_survival = titan_df[['Survived','Pclass','Name']] # 891 observations\n",
    "class_survival.groupby(['Pclass','Survived'],as_index=False).count()"
   ]
  },
  {
   "cell_type": "code",
   "execution_count": null,
   "metadata": {
    "collapsed": false
   },
   "outputs": [],
   "source": [
    "class_survival.groupby('Pclass',as_index=False).count()"
   ]
  },
  {
   "cell_type": "code",
   "execution_count": null,
   "metadata": {
    "collapsed": false
   },
   "outputs": [],
   "source": [
    "#chi-squared test of \"Sex\" and \"Survived\"\n",
    "obs=np.array([[80,136],[97,87],[372,119]])\n",
    "chi2_contingency(obs)   # these two variables are not independent"
   ]
  },
  {
   "cell_type": "code",
   "execution_count": null,
   "metadata": {
    "collapsed": false
   },
   "outputs": [],
   "source": [
    "#Visualization: survival rate by class\n",
    "\n",
    "class_surv1 = class_survival[class_survival['Survived']==0] \n",
    "class_surv2 = class_survival[class_survival['Survived']==1]\n",
    "\n",
    "#Generate gender summary statistics by survival for creating bar chart\n",
    "no_surv_class = class_surv1.groupby('Pclass',as_index=False).count()\n",
    "surv_class = class_surv2.groupby('Pclass',as_index=False).count()\n",
    "\n",
    "n_group=3\n",
    "objects=['1st Class','2nd Class', '3rd Class']\n",
    "index=np.arange(n_group)\n",
    "bar_width = 0.35\n",
    "plt.figure(figsize=(5,3))\n",
    "plt.bar(index,no_surv_class['Survived'],bar_width,label='Not survived')\n",
    "plt.xticks(index+bar_width, objects)\n",
    "plt.bar(index+bar_width,surv_class['Survived'],bar_width,color='green',label='Survived')\n",
    "plt.legend(loc='best',fontsize=10)\n",
    "plt.ylabel('Frequency',fontsize=10)\n",
    "plt.suptitle('Survival by class',fontsize=12)\n",
    "plt.savefig('survival_by_class.png');"
   ]
  },
  {
   "cell_type": "markdown",
   "metadata": {},
   "source": [
    "#### Question 6: Port of embarkation and survivial"
   ]
  },
  {
   "cell_type": "code",
   "execution_count": null,
   "metadata": {
    "collapsed": false
   },
   "outputs": [],
   "source": [
    "#Get the survival rate by port\n",
    "port_survival = titan_df[['Survived','Embarked','Name']] "
   ]
  },
  {
   "cell_type": "code",
   "execution_count": null,
   "metadata": {
    "collapsed": false
   },
   "outputs": [],
   "source": [
    "port_survival.groupby('Embarked',as_index=False).count() #there are 2 missing values"
   ]
  },
  {
   "cell_type": "code",
   "execution_count": null,
   "metadata": {
    "collapsed": false
   },
   "outputs": [],
   "source": [
    "port_surv=port_survival.dropna()  \n",
    "port_surv.groupby(['Survived','Embarked'],as_index=False).count()"
   ]
  },
  {
   "cell_type": "code",
   "execution_count": null,
   "metadata": {
    "collapsed": false
   },
   "outputs": [],
   "source": [
    "#Perform a chi-squared test comparing the survival rate between every two port\n",
    "obs=np.array([[75,47,427],[93,30,217]])\n",
    "chi2_contingency(obs)"
   ]
  },
  {
   "cell_type": "code",
   "execution_count": null,
   "metadata": {
    "collapsed": false
   },
   "outputs": [],
   "source": [
    "#Visualization: survival by embarkation port\n",
    "\n",
    "port_no_surv = port_survival[port_survival['Survived']==0] \n",
    "port_surv = port_survival[port_survival['Survived']==1]\n",
    "#Generate gender summary statistics by survival for creating bar chart\n",
    "no_surv_port = port_no_surv.groupby('Embarked',as_index=False).count()\n",
    "surv_port = port_surv.groupby('Embarked',as_index=False).count()\n",
    " \n",
    "n_group=3\n",
    "objects=['Cherbourg','Queenstown', 'Southampton']\n",
    "index=np.arange(n_group)\n",
    "bar_width = 0.35\n",
    "plt.figure(figsize=(5,3))\n",
    "plt.bar(index,no_surv_port['Survived'],bar_width,label='Not survived')\n",
    "plt.xticks(index+bar_width, objects)\n",
    "plt.bar(index+bar_width,surv_port['Survived'],bar_width,color='g',label='Survived')\n",
    "plt.legend(loc='best',fontsize=10)\n",
    "plt.ylabel('Frequency',fontsize=10)\n",
    "plt.suptitle('Survival by port',fontsize=12)\n",
    "plt.savefig('survival_by_port.png');"
   ]
  },
  {
   "cell_type": "code",
   "execution_count": null,
   "metadata": {
    "collapsed": false
   },
   "outputs": [],
   "source": [
    "#Why did passengers who embark from Cherbourg seem to have a higher survival rate?\n",
    "#Let's check the gender, age, and class of passengers from different ports\n",
    "ind_df = titan_df[['Survived','Sex','Age','Pclass','Embarked','Fare']]\n",
    "ind_df.groupby('Embarked',as_index=False).mean()"
   ]
  },
  {
   "cell_type": "code",
   "execution_count": null,
   "metadata": {
    "collapsed": false
   },
   "outputs": [],
   "source": [
    "#Class is probably the main reason, that is, passengers from Cherbourg were more likely to buy first-class tickets\n",
    "class1 = ind_df[ind_df['Pclass']==1] \n",
    "class2 = ind_df[ind_df['Pclass']==2] \n",
    "class3 = ind_df[ind_df['Pclass']==3] \n",
    "\n",
    "#Visualization: class by port\n",
    "class_port1 = class1.groupby('Embarked',as_index=False).count()\n",
    "class_port2 = class2.groupby('Embarked',as_index=False).count()\n",
    "class_port3 = class3.groupby('Embarked',as_index=False).count() \n",
    "\n",
    "n_group=3\n",
    "objects=['Cherbourg','Queenstown', 'Southampton']\n",
    "index=np.arange(n_group)\n",
    "bar_width = 0.15\n",
    "plt.figure(figsize=(5,3))\n",
    "plt.bar(index,class_port1['Pclass'],bar_width,color='b',label='1st Class')\n",
    "plt.xticks(index+1.5*bar_width, objects)\n",
    "plt.bar(index+bar_width,class_port2['Pclass'],bar_width,color='g',label='2nd Class')\n",
    "plt.bar(index+2*bar_width,class_port3['Pclass'],bar_width,color='gray',label='3rd Class')\n",
    "\n",
    "plt.legend(loc='best',fontsize=10)\n",
    "plt.ylabel('Frequency',fontsize=10)\n",
    "plt.suptitle('Class by port',fontsize=12)\n",
    "plt.savefig('class_by_port.png');"
   ]
  },
  {
   "cell_type": "markdown",
   "metadata": {},
   "source": [
    "#### Question 7: How did different factors interact in determining survival?\n",
    "\n",
    "We may wonder that since passengers in first-class cabins had better access to lifeboats and higher survival rate while women and children in general were given priority to evacuate, did women and children in lower-class cabins have same chance to get in lifeboats as those in first-class cabins?"
   ]
  },
  {
   "cell_type": "code",
   "execution_count": null,
   "metadata": {
    "collapsed": false
   },
   "outputs": [],
   "source": [
    "#create a data with survival,age, gender and class \n",
    "int_df = titan_df[['Survived','Pclass','Sex','Age']]\n",
    "\n",
    "#create a subset of data for female only\n",
    "fem_int_df=int_df[int_df['Sex']==1]"
   ]
  },
  {
   "cell_type": "code",
   "execution_count": null,
   "metadata": {
    "collapsed": false
   },
   "outputs": [],
   "source": [
    "fem_int_df.groupby(['Pclass','Survived'],as_index=False).count()"
   ]
  },
  {
   "cell_type": "code",
   "execution_count": null,
   "metadata": {
    "collapsed": false
   },
   "outputs": [],
   "source": [
    "#Perform a chi-squared test comparing survival of female by class\n",
    "obs=np.array([[3,6,72],[91,70,72]])\n",
    "chi2_contingency(obs)"
   ]
  },
  {
   "cell_type": "code",
   "execution_count": null,
   "metadata": {
    "collapsed": false
   },
   "outputs": [],
   "source": [
    "#Visualization: female survival rate by class\n",
    "\n",
    "#Generate gender summary statistics by survival for creating bar chart\n",
    "no_surv=fem_int_df[fem_int_df['Survived']==0]\n",
    "surv=fem_int_df[fem_int_df['Survived']==1]\n",
    "\n",
    "no_surv_class = no_surv.groupby('Pclass',as_index=False).count()\n",
    "surv_class = surv.groupby('Pclass',as_index=False).count()\n",
    "\n",
    "n_group=3\n",
    "objects=['1st Class','2nd Class', '3rd Class']\n",
    "index=np.arange(n_group)\n",
    "bar_width = 0.35\n",
    "plt.figure(figsize=(5,3))\n",
    "plt.bar(index,no_surv_class['Survived'],bar_width,color='b',label='Not survived')\n",
    "plt.xticks(index+bar_width, objects)\n",
    "plt.bar(index+bar_width,surv_class['Survived'],bar_width,color='green',label='Survived')\n",
    "plt.legend(loc='best',fontsize=10)\n",
    "plt.ylabel('Frequency',fontsize=10)\n",
    "plt.suptitle('Female survival by class',fontsize=12)\n",
    "plt.savefig('female_survival_by_class.png');"
   ]
  },
  {
   "cell_type": "code",
   "execution_count": null,
   "metadata": {
    "collapsed": false
   },
   "outputs": [],
   "source": [
    "#Interaction between age and class\n",
    "#Let's define \"children\" as age 16 and below\n",
    "kid_int_df=int_df[int_df['Age']<=16]\n",
    "kid_int_df.groupby('Pclass',as_index=False).mean()"
   ]
  },
  {
   "cell_type": "code",
   "execution_count": null,
   "metadata": {
    "collapsed": false
   },
   "outputs": [],
   "source": [
    "kid_int_df.groupby(['Pclass','Survived'],as_index=False).count()"
   ]
  },
  {
   "cell_type": "code",
   "execution_count": null,
   "metadata": {
    "collapsed": false
   },
   "outputs": [],
   "source": [
    "#Perform a chi-squared test comparing the survival rate of children by class\n",
    "obs=np.array([[1,2,42],[8,19,28]])\n",
    "chi2_contingency(obs)"
   ]
  },
  {
   "cell_type": "code",
   "execution_count": null,
   "metadata": {
    "collapsed": false
   },
   "outputs": [],
   "source": [
    "#Visualization: survival by class\n",
    "\n",
    "#Generate gender summary statistics by survival for creating bar chart\n",
    "no_surv=kid_int_df[kid_int_df['Survived']==0]\n",
    "surv=kid_int_df[kid_int_df['Survived']==1]\n",
    "\n",
    "no_surv_class = no_surv.groupby('Pclass',as_index=False).count()\n",
    "surv_class = surv.groupby('Pclass',as_index=False).count()\n",
    "\n",
    "n_group=3\n",
    "objects=['1st Class','2nd Class', '3rd Class']\n",
    "index=np.arange(n_group)\n",
    "bar_width = 0.35\n",
    "plt.figure(figsize=(5,3))\n",
    "plt.bar(index,no_surv_class['Survived'],bar_width,label='Not survived')\n",
    "plt.xticks(index+bar_width, objects)\n",
    "plt.bar(index+bar_width,surv_class['Survived'],bar_width,color='g',label='Survived')\n",
    "plt.legend(loc='best',fontsize=10)\n",
    "plt.ylabel('Frequency',fontsize=10)\n",
    "plt.suptitle('Children survival by class',fontsize=12)\n",
    "plt.savefig('kid_survival_by_class.png');"
   ]
  },
  {
   "cell_type": "markdown",
   "metadata": {},
   "source": [
    "#### Question 8: Family loss of passengers who survived\n"
   ]
  },
  {
   "cell_type": "code",
   "execution_count": null,
   "metadata": {
    "collapsed": false
   },
   "outputs": [],
   "source": [
    "# Every observation has a ticket number and family had identical ticket number,\n",
    "# so people with same ticket number and have \"SibSp\" or \"Parch\" on board can be identified as family\n",
    "family_df=titan_df[['Survived','Pclass','SibSp','Parch','Ticket']]\n",
    "#create a new column indicating total number of family members on board\n",
    "fam_df=family_df.copy()\n",
    "fam_df['fam']=fam_df['SibSp']+fam_df['Parch']\n",
    "fam_df['loss']=''\n",
    "fam_df.head()"
   ]
  },
  {
   "cell_type": "code",
   "execution_count": null,
   "metadata": {
    "collapsed": false
   },
   "outputs": [],
   "source": [
    "#sort by ticket \n",
    "fam_df = fam_df.sort_values('Ticket')\n",
    "fam_df.head()"
   ]
  },
  {
   "cell_type": "code",
   "execution_count": null,
   "metadata": {
    "collapsed": false
   },
   "outputs": [],
   "source": [
    "#Get the mean of survival by ticket number\n",
    "fam_sur_mean = fam_df.groupby('Ticket',as_index=False).mean()\n",
    "fam_sur_mean.head()"
   ]
  },
  {
   "cell_type": "code",
   "execution_count": null,
   "metadata": {
    "collapsed": false
   },
   "outputs": [],
   "source": [
    "temp_df = fam_sur_mean[['Ticket','Survived']]"
   ]
  },
  {
   "cell_type": "code",
   "execution_count": null,
   "metadata": {
    "collapsed": false
   },
   "outputs": [],
   "source": [
    "temp_df = temp_df.rename(columns={ 'Survived': 'MeanSurv'})"
   ]
  },
  {
   "cell_type": "code",
   "execution_count": null,
   "metadata": {
    "collapsed": false
   },
   "outputs": [],
   "source": [
    "fam_sur=pd.merge(fam_df,temp_df,on='Ticket')\n",
    "fam_sur.head()\n",
    "#If the mean of survival is 1, it means passengers with the same ticket number all survived; otherwise, at least one of them died"
   ]
  },
  {
   "cell_type": "code",
   "execution_count": null,
   "metadata": {
    "collapsed": false
   },
   "outputs": [],
   "source": [
    "fam_sur.count()"
   ]
  },
  {
   "cell_type": "code",
   "execution_count": null,
   "metadata": {
    "collapsed": false
   },
   "outputs": [],
   "source": [
    "# A data set containing only passenger who survived, with an indicator of whether losing family in the disaster\n",
    "survivor_df=fam_sur[fam_sur['Survived']==1]\n",
    "survivor_df.count()"
   ]
  },
  {
   "cell_type": "code",
   "execution_count": null,
   "metadata": {
    "collapsed": false
   },
   "outputs": [],
   "source": [
    "#If passengers with survival mean less than 1 had family members (sibsp,parch) on board, then there was family loss for them.\n",
    "\n",
    "fam_loss_df=survivor_df[(survivor_df['fam']>0)&(survivor_df['MeanSurv']<1)]\n",
    "fam_loss_df.count()"
   ]
  },
  {
   "cell_type": "code",
   "execution_count": null,
   "metadata": {
    "collapsed": false
   },
   "outputs": [],
   "source": [
    "#Visualization: distribution of number of family members who died in the disaster of the survivors\n",
    "plt.figure(figsize=(6,4))\n",
    "plt.hist(fam_loss_df['fam'],bins=6) \n",
    "plt.ylabel('Frequency',fontsize=10)\n",
    "plt.xlabel('Number of family losses',fontsize=8)\n",
    "plt.suptitle('Family loss of survivors',fontsize=12)\n",
    "plt.savefig('hist_fam_loss');"
   ]
  }
 ],
 "metadata": {
  "anaconda-cloud": {},
  "kernelspec": {
   "display_name": "Python [conda root]",
   "language": "python",
   "name": "conda-root-py"
  },
  "language_info": {
   "codemirror_mode": {
    "name": "ipython",
    "version": 2
   },
   "file_extension": ".py",
   "mimetype": "text/x-python",
   "name": "python",
   "nbconvert_exporter": "python",
   "pygments_lexer": "ipython2",
   "version": "2.7.12"
  }
 },
 "nbformat": 4,
 "nbformat_minor": 1
}
